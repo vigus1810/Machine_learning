{
  "cells": [
    {
      "cell_type": "markdown",
      "metadata": {
        "id": "NFmOh482SyEF"
      },
      "source": [
        "## Lab 2\n",
        "### Part 2: Dealing with overfitting"
      ]
    },
    {
      "cell_type": "markdown",
      "metadata": {
        "id": "AjzAuO3oSvsI"
      },
      "source": [
        "Today we work with [Fashion-MNIST dataset](https://github.com/zalandoresearch/fashion-mnist) (*hint: it is available in `torchvision`*).\n",
        "\n",
        "Your goal for today:\n",
        "1. Train a FC (fully-connected) network that achieves >= 0.885 test accuracy.\n",
        "2. Cause considerable overfitting by modifying the network (e.g. increasing the number of network parameters and/or layers) and demonstrate in in the appropriate way (e.g. plot loss and accurasy on train and validation set w.r.t. network complexity).\n",
        "3. Try to deal with overfitting (at least partially) by using regularization techniques (Dropout/Batchnorm/...) and demonstrate the results.\n",
        "\n",
        "__Please, write a small report describing your ideas, tries and achieved results in the end of this file.__\n",
        "\n",
        "*Note*: Tasks 2 and 3 are interrelated, in task 3 your goal is to make the network from task 2 less prone to overfitting. Task 1 is independent from 2 and 3.\n",
        "\n",
        "*Note 2*: We recomment to use Google Colab or other machine with GPU acceleration."
      ]
    },
    {
      "cell_type": "code",
      "execution_count": 3,
      "metadata": {
        "id": "_KBld6VOSwhW"
      },
      "outputs": [],
      "source": [
        "import torch\n",
        "import torch.nn as nn\n",
        "import torchvision\n",
        "import torchvision.transforms as transforms\n",
        "import torchsummary\n",
        "from IPython.display import clear_output\n",
        "from matplotlib import pyplot as plt\n",
        "from matplotlib.pyplot import figure\n",
        "import numpy as np\n",
        "import os\n",
        "\n",
        "\n",
        "device = 'cuda:0' if torch.cuda.is_available() else 'cpu'"
      ]
    },
    {
      "cell_type": "code",
      "execution_count": 4,
      "metadata": {
        "id": "EdLOG0XqS_g5",
        "colab": {
          "base_uri": "https://localhost:8080/"
        },
        "outputId": "9663e8d8-b39a-4123-affb-095fbd9702e8"
      },
      "outputs": [
        {
          "output_type": "stream",
          "name": "stdout",
          "text": [
            "Directory fmnist is created!\n"
          ]
        }
      ],
      "source": [
        "# Technical function\n",
        "def mkdir(path):\n",
        "    if not os.path.exists(root_path):\n",
        "        os.mkdir(root_path)\n",
        "        print('Directory', path, 'is created!')\n",
        "    else:\n",
        "        print('Directory', path, 'already exists!')\n",
        "\n",
        "root_path = 'fmnist'\n",
        "mkdir(root_path)"
      ]
    },
    {
      "cell_type": "code",
      "execution_count": 5,
      "metadata": {
        "id": "qt6LE7XaTDT9",
        "colab": {
          "base_uri": "https://localhost:8080/"
        },
        "outputId": "f4a247be-5a0a-4bc2-8d22-897ad6d0ba03"
      },
      "outputs": [
        {
          "output_type": "stream",
          "name": "stdout",
          "text": [
            "Downloading http://fashion-mnist.s3-website.eu-central-1.amazonaws.com/train-images-idx3-ubyte.gz\n",
            "Downloading http://fashion-mnist.s3-website.eu-central-1.amazonaws.com/train-images-idx3-ubyte.gz to fmnist/FashionMNIST/raw/train-images-idx3-ubyte.gz\n"
          ]
        },
        {
          "output_type": "stream",
          "name": "stderr",
          "text": [
            "100%|██████████| 26.4M/26.4M [00:01<00:00, 18.0MB/s]\n"
          ]
        },
        {
          "output_type": "stream",
          "name": "stdout",
          "text": [
            "Extracting fmnist/FashionMNIST/raw/train-images-idx3-ubyte.gz to fmnist/FashionMNIST/raw\n",
            "\n",
            "Downloading http://fashion-mnist.s3-website.eu-central-1.amazonaws.com/train-labels-idx1-ubyte.gz\n",
            "Downloading http://fashion-mnist.s3-website.eu-central-1.amazonaws.com/train-labels-idx1-ubyte.gz to fmnist/FashionMNIST/raw/train-labels-idx1-ubyte.gz\n"
          ]
        },
        {
          "output_type": "stream",
          "name": "stderr",
          "text": [
            "100%|██████████| 29.5k/29.5k [00:00<00:00, 274kB/s]\n"
          ]
        },
        {
          "output_type": "stream",
          "name": "stdout",
          "text": [
            "Extracting fmnist/FashionMNIST/raw/train-labels-idx1-ubyte.gz to fmnist/FashionMNIST/raw\n",
            "\n",
            "Downloading http://fashion-mnist.s3-website.eu-central-1.amazonaws.com/t10k-images-idx3-ubyte.gz\n",
            "Downloading http://fashion-mnist.s3-website.eu-central-1.amazonaws.com/t10k-images-idx3-ubyte.gz to fmnist/FashionMNIST/raw/t10k-images-idx3-ubyte.gz\n"
          ]
        },
        {
          "output_type": "stream",
          "name": "stderr",
          "text": [
            "100%|██████████| 4.42M/4.42M [00:00<00:00, 5.00MB/s]\n"
          ]
        },
        {
          "output_type": "stream",
          "name": "stdout",
          "text": [
            "Extracting fmnist/FashionMNIST/raw/t10k-images-idx3-ubyte.gz to fmnist/FashionMNIST/raw\n",
            "\n",
            "Downloading http://fashion-mnist.s3-website.eu-central-1.amazonaws.com/t10k-labels-idx1-ubyte.gz\n",
            "Downloading http://fashion-mnist.s3-website.eu-central-1.amazonaws.com/t10k-labels-idx1-ubyte.gz to fmnist/FashionMNIST/raw/t10k-labels-idx1-ubyte.gz\n"
          ]
        },
        {
          "output_type": "stream",
          "name": "stderr",
          "text": [
            "100%|██████████| 5.15k/5.15k [00:00<00:00, 13.1MB/s]\n"
          ]
        },
        {
          "output_type": "stream",
          "name": "stdout",
          "text": [
            "Extracting fmnist/FashionMNIST/raw/t10k-labels-idx1-ubyte.gz to fmnist/FashionMNIST/raw\n",
            "\n"
          ]
        }
      ],
      "source": [
        "download = True\n",
        "train_transform = transforms.ToTensor()\n",
        "test_transform = transforms.ToTensor()\n",
        "transforms.Compose((transforms.ToTensor()))\n",
        "\n",
        "\n",
        "fmnist_dataset_train = torchvision.datasets.FashionMNIST(root_path,\n",
        "                                                        train=True,\n",
        "                                                        transform=train_transform,\n",
        "                                                        target_transform=None,\n",
        "                                                        download=download)\n",
        "fmnist_dataset_test = torchvision.datasets.FashionMNIST(root_path,\n",
        "                                                       train=False,\n",
        "                                                       transform=test_transform,\n",
        "                                                       target_transform=None,\n",
        "                                                       download=download)"
      ]
    },
    {
      "cell_type": "code",
      "execution_count": 9,
      "metadata": {
        "id": "71YP0SPwTIxD"
      },
      "outputs": [],
      "source": [
        "train_loader = torch.utils.data.DataLoader(fmnist_dataset_train,\n",
        "                                           batch_size=128,\n",
        "                                           shuffle=True,\n",
        "                                           num_workers=2)\n",
        "test_loader = torch.utils.data.DataLoader(fmnist_dataset_test,\n",
        "                                          batch_size=256,\n",
        "                                          shuffle=False,\n",
        "                                          num_workers=2)"
      ]
    },
    {
      "cell_type": "code",
      "execution_count": 10,
      "metadata": {
        "id": "v_YFmF7NTWrQ",
        "colab": {
          "base_uri": "https://localhost:8080/"
        },
        "outputId": "14408dc6-c09a-44ba-f9b4-8fd18e643d14"
      },
      "outputs": [
        {
          "output_type": "execute_result",
          "data": {
            "text/plain": [
              "10000"
            ]
          },
          "metadata": {},
          "execution_count": 10
        }
      ],
      "source": [
        "len(fmnist_dataset_test)"
      ]
    },
    {
      "cell_type": "code",
      "execution_count": 11,
      "metadata": {
        "id": "aHca15bOTY4B",
        "colab": {
          "base_uri": "https://localhost:8080/"
        },
        "outputId": "7f348571-d8ed-475b-829a-868d3656cf19"
      },
      "outputs": [
        {
          "output_type": "stream",
          "name": "stdout",
          "text": [
            "torch.Size([128, 1, 28, 28])\n",
            "torch.Size([128])\n",
            "128\n"
          ]
        }
      ],
      "source": [
        "for img, label in train_loader:\n",
        "    print(img.shape)\n",
        "#     print(img)\n",
        "    print(label.shape)\n",
        "    print(label.size(0))\n",
        "    break"
      ]
    },
    {
      "cell_type": "markdown",
      "metadata": {
        "id": "b6OOOffHTfX5"
      },
      "source": [
        "### Task 1\n",
        "Train a network that achieves $\\geq 0.885$ test accuracy. It's fine to use only Linear (`nn.Linear`) layers and activations/dropout/batchnorm. Convolutional layers might be a great use, but we will meet them a bit later."
      ]
    },
    {
      "cell_type": "code",
      "execution_count": null,
      "metadata": {
        "id": "ftpkTjxlTcFx"
      },
      "outputs": [],
      "source": [
        "class TinyNeuralNetwork(nn.Module):\n",
        "    def __init__(self, input_shape=28*28, num_classes=10, input_channels=1):\n",
        "        super(self.__class__, self).__init__()\n",
        "        self.model = nn.Sequential(\n",
        "            nn.Flatten(), # This layer converts image into a vector to use Linear layers afterwards\n",
        "            # Your network structure comes here\n",
        "            nn.Linear(input_shape, 550),\n",
        "            nn.ReLU(),\n",
        "            nn.Linear(550, 500),\n",
        "            nn.ELU(),\n",
        "            nn.Linear(500, 250),\n",
        "            nn.ReLU(),\n",
        "            nn.Linear(250, 64),\n",
        "            nn.ELU(),\n",
        "            nn.Linear(64, 32),\n",
        "            nn.ReLU(),\n",
        "            nn.Linear(32, num_classes),\n",
        "            nn.LogSoftmax(dim=1)\n",
        "        )\n",
        "\n",
        "    def forward(self, inp):\n",
        "        out = self.model(inp)\n",
        "        return out"
      ]
    },
    {
      "cell_type": "code",
      "execution_count": null,
      "metadata": {
        "id": "dVzLwM3hAdxx",
        "colab": {
          "base_uri": "https://localhost:8080/"
        },
        "outputId": "1771a444-6277-492d-d480-3992c2858aac"
      },
      "outputs": [
        {
          "output_type": "stream",
          "name": "stdout",
          "text": [
            "----------------------------------------------------------------\n",
            "        Layer (type)               Output Shape         Param #\n",
            "================================================================\n",
            "           Flatten-1                  [-1, 784]               0\n",
            "            Linear-2                  [-1, 550]         431,750\n",
            "              ReLU-3                  [-1, 550]               0\n",
            "            Linear-4                  [-1, 500]         275,500\n",
            "               ELU-5                  [-1, 500]               0\n",
            "            Linear-6                  [-1, 250]         125,250\n",
            "              ReLU-7                  [-1, 250]               0\n",
            "            Linear-8                   [-1, 64]          16,064\n",
            "               ELU-9                   [-1, 64]               0\n",
            "           Linear-10                   [-1, 32]           2,080\n",
            "             ReLU-11                   [-1, 32]               0\n",
            "           Linear-12                   [-1, 10]             330\n",
            "       LogSoftmax-13                   [-1, 10]               0\n",
            "================================================================\n",
            "Total params: 850,974\n",
            "Trainable params: 850,974\n",
            "Non-trainable params: 0\n",
            "----------------------------------------------------------------\n",
            "Input size (MB): 0.00\n",
            "Forward/backward pass size (MB): 0.03\n",
            "Params size (MB): 3.25\n",
            "Estimated Total Size (MB): 3.28\n",
            "----------------------------------------------------------------\n"
          ]
        }
      ],
      "source": [
        "torchsummary.summary(TinyNeuralNetwork().to(device), (28*28,))"
      ]
    },
    {
      "cell_type": "markdown",
      "metadata": {
        "id": "544PGKEnjPr5"
      },
      "source": [
        "Your experiments come here:"
      ]
    },
    {
      "cell_type": "code",
      "source": [],
      "metadata": {
        "id": "EPsRg0rJOgjV"
      },
      "execution_count": null,
      "outputs": []
    },
    {
      "cell_type": "code",
      "execution_count": null,
      "metadata": {
        "id": "i3POFj90Ti-6"
      },
      "outputs": [],
      "source": [
        "model = TinyNeuralNetwork().to(device)\n",
        "opt = torch.optim.Adam(model.parameters(), lr=0.001) # YOUR CODE HERE\n",
        "loss_func = nn.CrossEntropyLoss() # YOUR CODE HERE\n",
        "\n",
        "# Your experiments, training and validation loops here"
      ]
    },
    {
      "cell_type": "code",
      "source": [
        "our_losses = []\n",
        "train_Accuracy = []\n",
        "test_Accuracy = []\n",
        "\n"
      ],
      "metadata": {
        "id": "zUmhALfFOh3G"
      },
      "execution_count": null,
      "outputs": []
    },
    {
      "cell_type": "code",
      "source": [
        "EPOCHS = 7\n",
        "model.train()\n",
        "for epoha in range(EPOCHS):\n",
        "\n",
        "        train_loss = 0.0\n",
        "        correct = 0\n",
        "        total = 0\n",
        "\n",
        "        for i, (picture, label) in enumerate(train_loader):\n",
        "            picture, label = picture.to(device), label.to(device)\n",
        "\n",
        "            opt.zero_grad()\n",
        "\n",
        "            outputs = model(picture)\n",
        "\n",
        "            loss = loss_func(outputs, label)\n",
        "\n",
        "\n",
        "\n",
        "            loss.backward()\n",
        "            opt.step()\n",
        "\n",
        "            # Подсчет статистик\n",
        "            train_loss += loss.item()\n",
        "            _, predicted = torch.max(outputs.data, 1)\n",
        "            total += label.size(0)\n",
        "            correct += (predicted == label).sum().item()\n",
        "\n",
        "        # Подсчитываем точность на обучающих данных\n",
        "        train_accuracy = 100 * correct / total\n",
        "        our_losses.append(train_loss / len(train_loader))\n",
        "        train_Accuracy.append(train_accuracy)\n",
        "\n",
        "        # Печать статистики за эпоху\n",
        "        print(f'Epoha {epoha+1}/{EPOCHS}, Loss: {train_loss/len(train_loader):.4f}, Accuracy: {train_accuracy:.2f}%')"
      ],
      "metadata": {
        "id": "dBiL9GvSOv4l",
        "colab": {
          "base_uri": "https://localhost:8080/"
        },
        "outputId": "f2095b51-fbdd-4dc6-89a7-b43faa7150f2"
      },
      "execution_count": null,
      "outputs": [
        {
          "output_type": "stream",
          "name": "stdout",
          "text": [
            "Epoha 1/7, Loss: 0.2098, Accuracy: 92.00%\n",
            "Epoha 2/7, Loss: 0.1986, Accuracy: 92.49%\n",
            "Epoha 3/7, Loss: 0.1918, Accuracy: 92.76%\n",
            "Epoha 4/7, Loss: 0.1917, Accuracy: 92.77%\n",
            "Epoha 5/7, Loss: 0.1837, Accuracy: 93.07%\n",
            "Epoha 6/7, Loss: 0.1755, Accuracy: 93.37%\n",
            "Epoha 7/7, Loss: 0.1733, Accuracy: 93.45%\n"
          ]
        }
      ]
    },
    {
      "cell_type": "code",
      "source": [
        "print(test_loader)"
      ],
      "metadata": {
        "colab": {
          "base_uri": "https://localhost:8080/"
        },
        "id": "9OfToSZa0DZX",
        "outputId": "af12a8e0-89b9-4b23-d454-3650b7232129"
      },
      "execution_count": null,
      "outputs": [
        {
          "output_type": "stream",
          "name": "stdout",
          "text": [
            "<torch.utils.data.dataloader.DataLoader object at 0x7d105a0f1ea0>\n"
          ]
        }
      ]
    },
    {
      "cell_type": "markdown",
      "source": [
        "Для достижения точности  >= 0.885 test accuracy было достаточно 3 этпохи."
      ],
      "metadata": {
        "id": "IkcD1_EMuiWa"
      }
    },
    {
      "cell_type": "code",
      "source": [
        "# Оценка модели\n",
        "model.eval()\n",
        "correct = 0\n",
        "total = 0\n",
        "with torch.no_grad():\n",
        "        for images, labels in test_loader:\n",
        "            images, labels = images.to(device), labels.to(device)\n",
        "            outputs = model(images)\n",
        "            _, predicted = torch.max(outputs.data, 1)\n",
        "            total += labels.size(0)\n",
        "            correct += (predicted == labels).sum().item()\n",
        "\n",
        "test_accuracy = 100 * correct / total\n",
        "test_Accuracy.append(test_accuracy)\n",
        "print(f'Test Accuracy: {test_accuracy:.2f}%')"
      ],
      "metadata": {
        "colab": {
          "base_uri": "https://localhost:8080/"
        },
        "id": "q0-cWjEr47rR",
        "outputId": "4937b712-455d-4080-968b-00df945c9e27"
      },
      "execution_count": null,
      "outputs": [
        {
          "output_type": "stream",
          "name": "stdout",
          "text": [
            "Test Accuracy: 88.81%\n"
          ]
        }
      ]
    },
    {
      "cell_type": "code",
      "source": [
        "model.eval()\n",
        "correct = 0\n",
        "total = 0\n",
        "with torch.no_grad():\n",
        "\n",
        "    for pictures, label in test_loader:\n",
        "        pictures, label = pictures.to(device), label.to(device)\n",
        "        outputs = model(pictures)\n",
        "        _, predicted = torch.max(outputs.data, 1)\n",
        "        total += pictures.size(0)\n",
        "\n",
        "        correct += (predicted == label).sum().item()\n",
        "\n",
        "\n",
        "test_accuracy = 100 * correct / total\n",
        "test_Accuracy.append(test_accuracy)\n",
        "print(f'correct: {correct:.2f}%')\n",
        "print(f'total: {total:.2f}%')\n",
        "print(f'Test Accuracy: {test_accuracy:.2f}%')"
      ],
      "metadata": {
        "id": "oy_L6Cj1adWq",
        "colab": {
          "base_uri": "https://localhost:8080/"
        },
        "outputId": "5c617aa5-dc14-4e67-9706-8b2b130f6263"
      },
      "execution_count": null,
      "outputs": [
        {
          "output_type": "stream",
          "name": "stdout",
          "text": [
            "correct: 8881.00%\n",
            "total: 10000.00%\n",
            "Test Accuracy: 88.81%\n"
          ]
        }
      ]
    },
    {
      "cell_type": "code",
      "source": [
        "print(our_losses)\n",
        "print(len(our_losses))\n"
      ],
      "metadata": {
        "colab": {
          "base_uri": "https://localhost:8080/"
        },
        "id": "vO6riTAU8a64",
        "outputId": "383605bb-2161-45c1-c30f-14925af15a8d"
      },
      "execution_count": null,
      "outputs": [
        {
          "output_type": "stream",
          "name": "stdout",
          "text": [
            "[0.5838069614571041, 0.3846003170143058, 0.34686095761591945, 0.31997172108718325, 0.2988229753620335, 0.28413665399495475, 0.2727833513829754, 0.25983650248442125, 0.2499170291430152, 0.23988355251390542, 0.23024117994283053, 0.22576387279005702, 0.21656092245187333, 0.2098179097527634, 0.19863147186889832, 0.19182949684766817, 0.19170777461549113, 0.18372050012702118, 0.17548361955992958, 0.17334559681350742]\n",
            "20\n"
          ]
        },
        {
          "output_type": "execute_result",
          "data": {
            "text/plain": [
              "range(1, 8)"
            ]
          },
          "metadata": {},
          "execution_count": 95
        }
      ]
    },
    {
      "cell_type": "code",
      "source": [
        "plt.figure(figsize=(12, 6))\n",
        "\n",
        "# Loss\n",
        "plt.subplot(1, 2, 1)\n",
        "plt.plot(range(1, len(our_losses)+1), our_losses, label='Train Loss')\n",
        "plt.title('Train Loss ')\n",
        "plt.xlabel('EPOCHS')\n",
        "plt.ylabel('Loss')\n",
        "plt.grid()\n",
        "\n",
        "# Accuracy\n",
        "plt.subplot(1, 2, 2)\n",
        "plt.plot(range(1, len(train_Accuracy)+1), train_Accuracy, label='Train Accuracy', color='b')\n",
        "plt.title('Accuracy ')\n",
        "plt.xlabel('EPOCHS')\n",
        "plt.ylabel('Accuracy (%)')\n",
        "plt.legend(loc='best')\n",
        "plt.grid()\n",
        "\n",
        "plt.tight_layout()\n",
        "plt.show()"
      ],
      "metadata": {
        "id": "2cdGHMD4anvr",
        "colab": {
          "base_uri": "https://localhost:8080/",
          "height": 607
        },
        "outputId": "dbf9a713-a75e-4ef7-9bf6-d22b668d83bf"
      },
      "execution_count": null,
      "outputs": [
        {
          "output_type": "display_data",
          "data": {
            "text/plain": [
              "<Figure size 1200x600 with 2 Axes>"
            ],
            "image/png": "[encoded data removed]"
          },
          "metadata": {}
        }
      ]
    },
    {
      "cell_type": "markdown",
      "metadata": {
        "id": "L7ISqkjmCPB1"
      },
      "source": [
        "### Task 2: Overfit it.\n",
        "Build a network that will overfit to this dataset. Demonstrate the overfitting in the appropriate way (e.g. plot loss and accurasy on train and test set w.r.t. network complexity).\n",
        "\n",
        "*Note:* you also might decrease the size of `train` dataset to enforce the overfitting and speed up the computations."
      ]
    },
    {
      "cell_type": "code",
      "execution_count": 12,
      "metadata": {
        "id": "H12uAWiGBwJx"
      },
      "outputs": [],
      "source": [
        "#сожмем датасет\n",
        "from torch.utils.data import DataLoader, Subset\n",
        "\n",
        "#train_subset = Subset(fmnist_dataset_train, np.random.choice(len(fmnist_dataset_train), 1000, replace=False))  # 1000 примеров\n",
        "#train_loader_over = DataLoader(train_subset, batch_size=64, shuffle=True)\n",
        "#test_loader_over = DataLoader(fmnist_dataset_test, batch_size=64, shuffle=False)\n",
        "\n",
        "class OverfittingNeuralNetwork(nn.Module):\n",
        "    def __init__(self, input_shape=28*28, num_classes=10, input_channels=1):\n",
        "        super(self.__class__, self).__init__()\n",
        "        self.model = nn.Sequential(\n",
        "            nn.Flatten(), # This layer converts image into a vector to use Linear layers afterwards\n",
        "            # Your network structure comes here\n",
        "            nn.Linear(input_shape, 2000),\n",
        "            nn.ReLU(),\n",
        "            nn.BatchNorm1d(2000),  # Batch Normalization\n",
        "            nn.Dropout(0.5),  # Dropout\n",
        "            nn.Linear(2000, 1800),\n",
        "            nn.ELU(),\n",
        "            nn.Linear(1800, 1000),\n",
        "            nn.ReLU(),\n",
        "            nn.BatchNorm1d(1000),\n",
        "            nn.Dropout(0.5),\n",
        "            nn.Linear(1000, 700),\n",
        "            nn.ELU(),\n",
        "            nn.Linear(700, 500),\n",
        "            nn.ReLU(),\n",
        "            nn.Linear(500, num_classes),\n",
        "\n",
        "        )\n",
        "\n",
        "    def forward(self, inp):\n",
        "        out = self.model(inp)\n",
        "        return out"
      ]
    },
    {
      "cell_type": "markdown",
      "source": [],
      "metadata": {
        "id": "i8dSWRrwzhJl"
      }
    },
    {
      "cell_type": "code",
      "source": [
        "#сожмем датасет\n",
        "from torch.utils.data import DataLoader, Subset\n",
        "\n",
        "train_subset = Subset(fmnist_dataset_train, np.random.choice(len(fmnist_dataset_train), 1000, replace=False))  # 1000 примеров\n",
        "train_loader_over = DataLoader(train_subset, batch_size=64, shuffle=True)\n",
        "test_loader_over = DataLoader(fmnist_dataset_test, batch_size=64, shuffle=False)\n",
        "\n",
        "class OverfittingNeuralNetwork1(nn.Module):\n",
        "    def __init__(self, input_shape=28*28, num_classes=10, input_channels=1):\n",
        "        super(self.__class__, self).__init__()\n",
        "        self.model = nn.Sequential(\n",
        "            nn.Flatten(), # This layer converts image into a vector to use Linear layers afterwards\n",
        "            # Your network structure comes here\n",
        "            nn.Linear(input_shape, 2000),\n",
        "            nn.ReLU(),\n",
        "            nn.BatchNorm1d(2000),  # Batch Normalization\n",
        "            nn.Dropout(0.5),  # Dropout\n",
        "            nn.Linear(2000, 1800),\n",
        "            nn.ELU(),\n",
        "            nn.Linear(1800, 1500),\n",
        "            nn.ReLU(),\n",
        "            nn.Linear(1500, 1200), #слишком сложная модель\n",
        "            nn.ReLU(),\n",
        "            nn.BatchNorm1d(1200), # должна привести к переобучению\n",
        "            nn.Dropout(0.5),\n",
        "            nn.Linear(1200, 700),\n",
        "            nn.ELU(),\n",
        "            nn.Linear(700, 500),\n",
        "            nn.ReLU(),\n",
        "            nn.Linear(500, num_classes),\n",
        "\n",
        "        )\n",
        "\n",
        "    def forward(self, inp):\n",
        "        out = self.model(inp)\n",
        "        return out"
      ],
      "metadata": {
        "id": "KaCPXQ2pqOFO"
      },
      "execution_count": 23,
      "outputs": []
    },
    {
      "cell_type": "markdown",
      "source": [],
      "metadata": {
        "id": "WG1jF5QpzjlZ"
      }
    },
    {
      "cell_type": "code",
      "execution_count": 13,
      "metadata": {
        "id": "JgXAKCpvCwqH",
        "colab": {
          "base_uri": "https://localhost:8080/"
        },
        "outputId": "812fd49f-3e53-4046-e7fd-6595fbfb6803"
      },
      "outputs": [
        {
          "output_type": "stream",
          "name": "stdout",
          "text": [
            "----------------------------------------------------------------\n",
            "        Layer (type)               Output Shape         Param #\n",
            "================================================================\n",
            "           Flatten-1                  [-1, 784]               0\n",
            "            Linear-2                 [-1, 2000]       1,570,000\n",
            "              ReLU-3                 [-1, 2000]               0\n",
            "       BatchNorm1d-4                 [-1, 2000]           4,000\n",
            "           Dropout-5                 [-1, 2000]               0\n",
            "            Linear-6                 [-1, 1800]       3,601,800\n",
            "               ELU-7                 [-1, 1800]               0\n",
            "            Linear-8                 [-1, 1000]       1,801,000\n",
            "              ReLU-9                 [-1, 1000]               0\n",
            "      BatchNorm1d-10                 [-1, 1000]           2,000\n",
            "          Dropout-11                 [-1, 1000]               0\n",
            "           Linear-12                  [-1, 700]         700,700\n",
            "              ELU-13                  [-1, 700]               0\n",
            "           Linear-14                  [-1, 500]         350,500\n",
            "             ReLU-15                  [-1, 500]               0\n",
            "           Linear-16                   [-1, 10]           5,010\n",
            "================================================================\n",
            "Total params: 8,035,010\n",
            "Trainable params: 8,035,010\n",
            "Non-trainable params: 0\n",
            "----------------------------------------------------------------\n",
            "Input size (MB): 0.00\n",
            "Forward/backward pass size (MB): 0.14\n",
            "Params size (MB): 30.65\n",
            "Estimated Total Size (MB): 30.80\n",
            "----------------------------------------------------------------\n"
          ]
        }
      ],
      "source": [
        "torchsummary.summary(OverfittingNeuralNetwork().to(device), (28*28,))"
      ]
    },
    {
      "cell_type": "code",
      "execution_count": 14,
      "metadata": {
        "id": "pJBX7U-wAdxy"
      },
      "outputs": [],
      "source": [
        "model = OverfittingNeuralNetwork().to(device)\n",
        "\n",
        "opt = torch.optim.Adam(model.parameters(), lr=0.001) # YOUR CODE HERE\n",
        "loss_func = nn.CrossEntropyLoss() # YOUR CODE HERE\n",
        "\n",
        "# Your experiments, come here"
      ]
    },
    {
      "cell_type": "code",
      "source": [],
      "metadata": {
        "id": "W5ZZrM7PuZ2x"
      },
      "execution_count": null,
      "outputs": []
    },
    {
      "cell_type": "code",
      "source": [
        "our_losses = []\n",
        "our_test_losses = []\n",
        "train_Accuracy = []\n",
        "test_Accuracy = []\n",
        "\n"
      ],
      "metadata": {
        "id": "YjufzPqSE6Hw"
      },
      "execution_count": 19,
      "outputs": []
    },
    {
      "cell_type": "code",
      "source": [
        "EPOCHS = 30\n",
        "model.train()\n",
        "for epoha in range(EPOCHS):\n",
        "\n",
        "        train_loss = 0.0\n",
        "        correct = 0\n",
        "        total = 0\n",
        "\n",
        "        for i, (picture, label) in enumerate(train_loader):\n",
        "            picture, label = picture.to(device), label.to(device)\n",
        "\n",
        "            opt.zero_grad()\n",
        "\n",
        "            outputs = model(picture)\n",
        "\n",
        "            loss = loss_func(outputs, label)\n",
        "\n",
        "\n",
        "\n",
        "            loss.backward()\n",
        "            opt.step()\n",
        "\n",
        "            # Подсчет статистик\n",
        "            train_loss += loss.item()\n",
        "            _, predicted = torch.max(outputs.data, 1)\n",
        "            total += label.size(0)\n",
        "            correct += (predicted == label).sum().item()\n",
        "\n",
        "        # Подсчитываем точность на обучающих данных\n",
        "        train_accuracy = 100 * correct / total\n",
        "        our_losses.append(train_loss / len(train_loader))\n",
        "        train_Accuracy.append(train_accuracy)\n",
        "\n",
        "\n",
        "        model.eval()\n",
        "        test_loss = 0.0\n",
        "        correct = 0\n",
        "        total = 0\n",
        "        with torch.no_grad():\n",
        "            for images, labels in test_loader:\n",
        "                images, labels = images.to(device), labels.to(device)\n",
        "                outputs = model(images)\n",
        "                loss = loss_func(outputs, labels)\n",
        "                test_loss += loss.item()\n",
        "                _, predicted = torch.max(outputs.data, 1)\n",
        "                total += labels.size(0)\n",
        "                correct += (predicted == labels).sum().item()\n",
        "\n",
        "        test_accuracy = 100 * correct / total\n",
        "        test_Accuracy.append(test_accuracy)\n",
        "        our_test_losses.append(test_loss / len(test_loader))\n",
        "        print(f'Test Loss: {test_loss/len(test_loader):.4f}, Test Accuracy: {test_accuracy:.2f}%')\n",
        "\n",
        "\n",
        "        # Печать статистики за эпоху\n",
        "        print(f'Epoha {epoha+1}/{EPOCHS}, Loss: {train_loss/len(train_loader):.4f}, Accuracy: {train_accuracy:.2f}%')"
      ],
      "metadata": {
        "colab": {
          "base_uri": "https://localhost:8080/"
        },
        "id": "G1-NRRTWGlvv",
        "outputId": "351fdb2b-b9d0-401e-fb52-345d2297878b"
      },
      "execution_count": 20,
      "outputs": [
        {
          "output_type": "stream",
          "name": "stdout",
          "text": [
            "Test Loss: 0.3468, Test Accuracy: 87.46%\n",
            "Epoha 1/30, Loss: 0.3328, Accuracy: 87.95%\n",
            "Test Loss: 0.3277, Test Accuracy: 88.72%\n",
            "Epoha 2/30, Loss: 0.2380, Accuracy: 91.08%\n",
            "Test Loss: 0.3331, Test Accuracy: 88.56%\n",
            "Epoha 3/30, Loss: 0.2125, Accuracy: 91.98%\n",
            "Test Loss: 0.3129, Test Accuracy: 89.77%\n",
            "Epoha 4/30, Loss: 0.1986, Accuracy: 92.47%\n",
            "Test Loss: 0.3186, Test Accuracy: 89.28%\n",
            "Epoha 5/30, Loss: 0.1890, Accuracy: 92.74%\n",
            "Test Loss: 0.3368, Test Accuracy: 89.27%\n",
            "Epoha 6/30, Loss: 0.1828, Accuracy: 93.08%\n",
            "Test Loss: 0.3380, Test Accuracy: 89.21%\n",
            "Epoha 7/30, Loss: 0.1801, Accuracy: 93.12%\n",
            "Test Loss: 0.3497, Test Accuracy: 89.32%\n",
            "Epoha 8/30, Loss: 0.1713, Accuracy: 93.48%\n",
            "Test Loss: 0.3456, Test Accuracy: 89.68%\n",
            "Epoha 9/30, Loss: 0.1642, Accuracy: 93.74%\n",
            "Test Loss: 0.3606, Test Accuracy: 89.67%\n",
            "Epoha 10/30, Loss: 0.1602, Accuracy: 93.90%\n",
            "Test Loss: 0.3547, Test Accuracy: 89.52%\n",
            "Epoha 11/30, Loss: 0.1539, Accuracy: 94.17%\n",
            "Test Loss: 0.3486, Test Accuracy: 89.20%\n",
            "Epoha 12/30, Loss: 0.1484, Accuracy: 94.25%\n",
            "Test Loss: 0.3542, Test Accuracy: 89.75%\n",
            "Epoha 13/30, Loss: 0.1477, Accuracy: 94.48%\n",
            "Test Loss: 0.3780, Test Accuracy: 89.54%\n",
            "Epoha 14/30, Loss: 0.1372, Accuracy: 94.79%\n",
            "Test Loss: 0.3753, Test Accuracy: 89.63%\n",
            "Epoha 15/30, Loss: 0.1314, Accuracy: 94.89%\n",
            "Test Loss: 0.3699, Test Accuracy: 89.52%\n",
            "Epoha 16/30, Loss: 0.1265, Accuracy: 95.11%\n",
            "Test Loss: 0.3814, Test Accuracy: 89.66%\n",
            "Epoha 17/30, Loss: 0.1218, Accuracy: 95.35%\n",
            "Test Loss: 0.4027, Test Accuracy: 89.54%\n",
            "Epoha 18/30, Loss: 0.1164, Accuracy: 95.59%\n",
            "Test Loss: 0.4081, Test Accuracy: 89.85%\n",
            "Epoha 19/30, Loss: 0.1112, Accuracy: 95.67%\n",
            "Test Loss: 0.4121, Test Accuracy: 90.32%\n",
            "Epoha 20/30, Loss: 0.1121, Accuracy: 95.65%\n",
            "Test Loss: 0.4232, Test Accuracy: 90.09%\n",
            "Epoha 21/30, Loss: 0.1043, Accuracy: 95.92%\n",
            "Test Loss: 0.4502, Test Accuracy: 89.49%\n",
            "Epoha 22/30, Loss: 0.0994, Accuracy: 96.11%\n",
            "Test Loss: 0.4129, Test Accuracy: 89.27%\n",
            "Epoha 23/30, Loss: 0.0995, Accuracy: 96.23%\n",
            "Test Loss: 0.4907, Test Accuracy: 89.97%\n",
            "Epoha 24/30, Loss: 0.0909, Accuracy: 96.43%\n",
            "Test Loss: 0.4540, Test Accuracy: 89.56%\n",
            "Epoha 25/30, Loss: 0.0906, Accuracy: 96.42%\n",
            "Test Loss: 0.4570, Test Accuracy: 89.67%\n",
            "Epoha 26/30, Loss: 0.0923, Accuracy: 96.49%\n",
            "Test Loss: 0.4692, Test Accuracy: 89.64%\n",
            "Epoha 27/30, Loss: 0.0877, Accuracy: 96.64%\n",
            "Test Loss: 0.4790, Test Accuracy: 89.81%\n",
            "Epoha 28/30, Loss: 0.0779, Accuracy: 96.98%\n",
            "Test Loss: 0.5573, Test Accuracy: 90.10%\n",
            "Epoha 29/30, Loss: 0.0729, Accuracy: 97.18%\n",
            "Test Loss: 0.4775, Test Accuracy: 89.95%\n",
            "Epoha 30/30, Loss: 0.0799, Accuracy: 96.94%\n"
          ]
        }
      ]
    },
    {
      "cell_type": "code",
      "source": [
        "plt.figure(figsize=(12, 6))\n",
        "\n",
        "# Loss\n",
        "plt.subplot(1, 2, 1)\n",
        "plt.plot(range(1, len(our_losses)+1), our_losses, label='Train Loss')\n",
        "plt.plot(range(1, len(our_test_losses)+1), our_test_losses, label='Test Loss', linestyle='--')\n",
        "plt.title('Train Loss ')\n",
        "plt.xlabel('EPOCHS')\n",
        "plt.ylabel('Loss')\n",
        "plt.legend(loc='best')\n",
        "plt.grid()\n",
        "\n",
        "# Accuracy\n",
        "plt.subplot(1, 2, 2)\n",
        "plt.plot(range(1, len(train_Accuracy)+1), train_Accuracy, label='Train Accuracy', color='b')\n",
        "plt.plot(range(1, len(test_Accuracy)+1), test_Accuracy, label='Test Accuracy', color='g')\n",
        "plt.title('Accuracy ')\n",
        "plt.xlabel('EPOCHS')\n",
        "plt.ylabel('Accuracy (%)')\n",
        "plt.legend(loc='best')\n",
        "plt.grid()\n",
        "\n",
        "plt.tight_layout()\n",
        "plt.show()"
      ],
      "metadata": {
        "colab": {
          "base_uri": "https://localhost:8080/",
          "height": 563
        },
        "id": "tcOsfreZGxki",
        "outputId": "5e2db8e5-3703-433b-dc58-898dd4bc1325"
      },
      "execution_count": 22,
      "outputs": [
        {
          "output_type": "display_data",
          "data": {
            "text/plain": [
              "<Figure size 1200x600 with 2 Axes>"
            ],
            "image/png": "[encoded data removed]"
          },
          "metadata": {}
        }
      ]
    },
    {
      "cell_type": "markdown",
      "source": [
        "Потери на тестовом наборе увеличиваются по мере увеличения сложности модели, это говорит о переобучении модели. Мы видим, что точность на тренировочной выборке продолжает расти в то время, как рост точности на тестовой выборке прекратился.\n"
      ],
      "metadata": {
        "id": "CcZ8kgkBodQs"
      }
    },
    {
      "cell_type": "markdown",
      "metadata": {
        "id": "Uq8Sb-qbAdxy"
      },
      "source": [
        "### Task 3: Fix it.\n",
        "Fix the overfitted network from the previous step (at least partially) by using regularization techniques (Dropout/Batchnorm/...) and demonstrate the results."
      ]
    },
    {
      "cell_type": "markdown",
      "source": [
        "Для уменьшения переобучения возьмем туже сеть что и во втором задании, но уменьшим количество нейронов в каждом слое, а также применим регуляризацию."
      ],
      "metadata": {
        "id": "gtV50HgjuQEr"
      }
    },
    {
      "cell_type": "code",
      "source": [
        "class FixedNeuralNetwork(nn.Module):\n",
        "    def __init__(self, input_shape=28*28, num_classes=10, input_channels=1):\n",
        "        super(self.__class__, self).__init__()\n",
        "        self.model = nn.Sequential(\n",
        "            nn.Flatten(), # This layer converts image into a vector to use Linear layers afterwards\n",
        "            # Your network structure comes here\n",
        "\n",
        "            nn.Linear(input_shape, 200),\n",
        "            nn.ReLU(),\n",
        "            nn.BatchNorm1d(200),  # Batch Normalization\n",
        "            nn.Dropout(0.5),  # Dropout\n",
        "            nn.Linear(200, 180),\n",
        "            nn.ELU(),\n",
        "            nn.Linear(180, 100),\n",
        "            nn.ReLU(),\n",
        "            nn.BatchNorm1d(100),\n",
        "            nn.Dropout(0.5),\n",
        "            nn.Linear(100, 70),\n",
        "            nn.ELU(),\n",
        "            nn.Linear(70, 50),\n",
        "            nn.ReLU(),\n",
        "            nn.Linear(50, num_classes),\n",
        "        )\n",
        "\n",
        "    def forward(self, inp):\n",
        "        out = self.model(inp)\n",
        "        return out"
      ],
      "metadata": {
        "id": "XjZ4JsoYqt9P"
      },
      "execution_count": 27,
      "outputs": []
    },
    {
      "cell_type": "code",
      "source": [],
      "metadata": {
        "id": "73udCdKLqhHz"
      },
      "execution_count": null,
      "outputs": []
    },
    {
      "cell_type": "code",
      "execution_count": 29,
      "metadata": {
        "id": "DBzByahxAdxy",
        "colab": {
          "base_uri": "https://localhost:8080/"
        },
        "outputId": "c8f2ff44-2dae-48f2-bfc2-fdc56d527032"
      },
      "outputs": [
        {
          "output_type": "stream",
          "name": "stdout",
          "text": [
            "----------------------------------------------------------------\n",
            "        Layer (type)               Output Shape         Param #\n",
            "================================================================\n",
            "           Flatten-1                  [-1, 784]               0\n",
            "            Linear-2                  [-1, 200]         157,000\n",
            "              ReLU-3                  [-1, 200]               0\n",
            "       BatchNorm1d-4                  [-1, 200]             400\n",
            "           Dropout-5                  [-1, 200]               0\n",
            "            Linear-6                  [-1, 180]          36,180\n",
            "               ELU-7                  [-1, 180]               0\n",
            "            Linear-8                  [-1, 100]          18,100\n",
            "              ReLU-9                  [-1, 100]               0\n",
            "      BatchNorm1d-10                  [-1, 100]             200\n",
            "          Dropout-11                  [-1, 100]               0\n",
            "           Linear-12                   [-1, 70]           7,070\n",
            "              ELU-13                   [-1, 70]               0\n",
            "           Linear-14                   [-1, 50]           3,550\n",
            "             ReLU-15                   [-1, 50]               0\n",
            "           Linear-16                   [-1, 10]             510\n",
            "================================================================\n",
            "Total params: 223,010\n",
            "Trainable params: 223,010\n",
            "Non-trainable params: 0\n",
            "----------------------------------------------------------------\n",
            "Input size (MB): 0.00\n",
            "Forward/backward pass size (MB): 0.02\n",
            "Params size (MB): 0.85\n",
            "Estimated Total Size (MB): 0.87\n",
            "----------------------------------------------------------------\n"
          ]
        }
      ],
      "source": [
        "torchsummary.summary(FixedNeuralNetwork().to(device), (28*28,))"
      ]
    },
    {
      "cell_type": "code",
      "execution_count": 30,
      "metadata": {
        "id": "BG6lERFdAdxy"
      },
      "outputs": [],
      "source": [
        "model = FixedNeuralNetwork().to(device)\n",
        "opt = torch.optim.Adam(model.parameters(), lr=0.001) # YOUR CODE HERE\n",
        "loss_func = nn.CrossEntropyLoss() # YOUR CODE HERE\n",
        "\n",
        "# Your experiments, come here\n",
        "# Your experiments, come here"
      ]
    },
    {
      "cell_type": "code",
      "source": [
        "our_losses = []\n",
        "our_test_losses = []\n",
        "train_Accuracy = []\n",
        "test_Accuracy = []\n",
        "\n"
      ],
      "metadata": {
        "id": "8LRYE_3xy4Kp"
      },
      "execution_count": 31,
      "outputs": []
    },
    {
      "cell_type": "code",
      "source": [
        "EPOCHS = 30\n",
        "model.train()\n",
        "from torch.optim.lr_scheduler import StepLR\n",
        "scheduler = StepLR(opt, step_size=5, gamma=0.5)\n",
        "for epoha in range(EPOCHS):\n",
        "\n",
        "        train_loss = 0.0\n",
        "        correct = 0\n",
        "        total = 0\n",
        "\n",
        "        for i, (picture, label) in enumerate(train_loader):\n",
        "            picture, label = picture.to(device), label.to(device)\n",
        "\n",
        "            opt.zero_grad()\n",
        "\n",
        "            outputs = model(picture)\n",
        "\n",
        "            loss = loss_func(outputs, label)\n",
        "\n",
        "\n",
        "\n",
        "            loss.backward()\n",
        "            opt.step()\n",
        "\n",
        "            # Подсчет статистик\n",
        "            train_loss += loss.item()\n",
        "            _, predicted = torch.max(outputs.data, 1)\n",
        "            total += label.size(0)\n",
        "            correct += (predicted == label).sum().item()\n",
        "\n",
        "        # Подсчитываем точность на обучающих данных\n",
        "        train_accuracy = 100 * correct / total\n",
        "        our_losses.append(train_loss / len(train_loader))\n",
        "        train_Accuracy.append(train_accuracy)\n",
        "\n",
        "\n",
        "        model.eval()\n",
        "        test_loss = 0.0\n",
        "        correct = 0\n",
        "        total = 0\n",
        "        with torch.no_grad():\n",
        "            for images, labels in test_loader:\n",
        "                images, labels = images.to(device), labels.to(device)\n",
        "                outputs = model(images)\n",
        "                loss = loss_func(outputs, labels)\n",
        "                test_loss += loss.item()\n",
        "                _, predicted = torch.max(outputs.data, 1)\n",
        "                total += labels.size(0)\n",
        "                correct += (predicted == labels).sum().item()\n",
        "\n",
        "        test_accuracy = 100 * correct / total\n",
        "        test_Accuracy.append(test_accuracy)\n",
        "        our_test_losses.append(test_loss / len(test_loader))\n",
        "        print(f'Test Loss: {test_loss/len(test_loader):.4f}, Test Accuracy: {test_accuracy:.2f}%')\n",
        "\n",
        "\n",
        "        # Печать статистики за эпоху\n",
        "        print(f'Epoha {epoha+1}/{EPOCHS}, Loss: {train_loss/len(train_loader):.4f}, Accuracy: {train_accuracy:.2f}%')\n",
        "                # Обновление learning rate\n",
        "        scheduler.step()"
      ],
      "metadata": {
        "colab": {
          "base_uri": "https://localhost:8080/"
        },
        "id": "pE6B5vCOy__-",
        "outputId": "f43d8d65-ce52-43a0-c769-6b713de86f22"
      },
      "execution_count": 32,
      "outputs": [
        {
          "output_type": "stream",
          "name": "stdout",
          "text": [
            "Test Loss: 0.4812, Test Accuracy: 82.42%\n",
            "Epoha 1/30, Loss: 0.6579, Accuracy: 77.11%\n",
            "Test Loss: 0.4052, Test Accuracy: 85.08%\n",
            "Epoha 2/30, Loss: 0.4042, Accuracy: 85.13%\n",
            "Test Loss: 0.3831, Test Accuracy: 85.95%\n",
            "Epoha 3/30, Loss: 0.3477, Accuracy: 87.06%\n",
            "Test Loss: 0.3806, Test Accuracy: 86.17%\n",
            "Epoha 4/30, Loss: 0.3253, Accuracy: 88.07%\n",
            "Test Loss: 0.3550, Test Accuracy: 87.24%\n",
            "Epoha 5/30, Loss: 0.3086, Accuracy: 88.56%\n",
            "Test Loss: 0.3338, Test Accuracy: 87.96%\n",
            "Epoha 6/30, Loss: 0.2685, Accuracy: 89.98%\n",
            "Test Loss: 0.3314, Test Accuracy: 87.91%\n",
            "Epoha 7/30, Loss: 0.2566, Accuracy: 90.27%\n",
            "Test Loss: 0.3195, Test Accuracy: 88.36%\n",
            "Epoha 8/30, Loss: 0.2480, Accuracy: 90.65%\n",
            "Test Loss: 0.3262, Test Accuracy: 88.25%\n",
            "Epoha 9/30, Loss: 0.2406, Accuracy: 90.93%\n",
            "Test Loss: 0.3156, Test Accuracy: 88.64%\n",
            "Epoha 10/30, Loss: 0.2340, Accuracy: 91.17%\n",
            "Test Loss: 0.3179, Test Accuracy: 88.88%\n",
            "Epoha 11/30, Loss: 0.2080, Accuracy: 92.12%\n",
            "Test Loss: 0.3186, Test Accuracy: 88.73%\n",
            "Epoha 12/30, Loss: 0.2010, Accuracy: 92.44%\n",
            "Test Loss: 0.3208, Test Accuracy: 89.08%\n",
            "Epoha 13/30, Loss: 0.1959, Accuracy: 92.55%\n",
            "Test Loss: 0.3286, Test Accuracy: 88.97%\n",
            "Epoha 14/30, Loss: 0.1899, Accuracy: 92.86%\n",
            "Test Loss: 0.3427, Test Accuracy: 88.62%\n",
            "Epoha 15/30, Loss: 0.1851, Accuracy: 93.06%\n",
            "Test Loss: 0.3309, Test Accuracy: 89.29%\n",
            "Epoha 16/30, Loss: 0.1706, Accuracy: 93.63%\n",
            "Test Loss: 0.3292, Test Accuracy: 89.24%\n",
            "Epoha 17/30, Loss: 0.1672, Accuracy: 93.74%\n",
            "Test Loss: 0.3336, Test Accuracy: 89.41%\n",
            "Epoha 18/30, Loss: 0.1638, Accuracy: 93.86%\n",
            "Test Loss: 0.3423, Test Accuracy: 89.32%\n",
            "Epoha 19/30, Loss: 0.1604, Accuracy: 93.98%\n",
            "Test Loss: 0.3477, Test Accuracy: 89.14%\n",
            "Epoha 20/30, Loss: 0.1574, Accuracy: 94.15%\n",
            "Test Loss: 0.3443, Test Accuracy: 89.40%\n",
            "Epoha 21/30, Loss: 0.1496, Accuracy: 94.54%\n",
            "Test Loss: 0.3502, Test Accuracy: 89.37%\n",
            "Epoha 22/30, Loss: 0.1476, Accuracy: 94.66%\n",
            "Test Loss: 0.3526, Test Accuracy: 89.29%\n",
            "Epoha 23/30, Loss: 0.1460, Accuracy: 94.70%\n",
            "Test Loss: 0.3533, Test Accuracy: 89.21%\n",
            "Epoha 24/30, Loss: 0.1441, Accuracy: 94.75%\n",
            "Test Loss: 0.3575, Test Accuracy: 89.49%\n",
            "Epoha 25/30, Loss: 0.1423, Accuracy: 94.83%\n",
            "Test Loss: 0.3591, Test Accuracy: 89.37%\n",
            "Epoha 26/30, Loss: 0.1383, Accuracy: 94.97%\n",
            "Test Loss: 0.3588, Test Accuracy: 89.28%\n",
            "Epoha 27/30, Loss: 0.1369, Accuracy: 95.07%\n",
            "Test Loss: 0.3611, Test Accuracy: 89.51%\n",
            "Epoha 28/30, Loss: 0.1363, Accuracy: 95.11%\n",
            "Test Loss: 0.3645, Test Accuracy: 89.24%\n",
            "Epoha 29/30, Loss: 0.1354, Accuracy: 95.14%\n",
            "Test Loss: 0.3631, Test Accuracy: 89.40%\n",
            "Epoha 30/30, Loss: 0.1345, Accuracy: 95.20%\n"
          ]
        }
      ]
    },
    {
      "cell_type": "code",
      "source": [
        "plt.figure(figsize=(12, 6))\n",
        "\n",
        "# Loss\n",
        "plt.subplot(1, 2, 1)\n",
        "plt.plot(range(1, len(our_losses)+1), our_losses, label='Train Loss')\n",
        "plt.plot(range(1, len(our_test_losses)+1), our_test_losses, label='Test Loss', linestyle='--')\n",
        "plt.title('Train Loss ')\n",
        "plt.xlabel('EPOCHS')\n",
        "plt.ylabel('Loss')\n",
        "plt.legend(loc='best')\n",
        "plt.grid()\n",
        "\n",
        "# Accuracy\n",
        "plt.subplot(1, 2, 2)\n",
        "plt.plot(range(1, len(train_Accuracy)+1), train_Accuracy, label='Train Accuracy', color='b')\n",
        "plt.plot(range(1, len(test_Accuracy)+1), test_Accuracy, label='Test Accuracy', color='g')\n",
        "plt.title('Accuracy ')\n",
        "plt.xlabel('EPOCHS')\n",
        "plt.ylabel('Accuracy (%)')\n",
        "plt.legend(loc='best')\n",
        "plt.grid()\n",
        "\n",
        "plt.tight_layout()\n",
        "plt.show()"
      ],
      "metadata": {
        "colab": {
          "base_uri": "https://localhost:8080/",
          "height": 563
        },
        "id": "UH1sViSwzKB0",
        "outputId": "35c86e29-3597-4ec7-a82c-5e29e46e661a"
      },
      "execution_count": 33,
      "outputs": [
        {
          "output_type": "display_data",
          "data": {
            "text/plain": [
              "<Figure size 1200x600 with 2 Axes>"
            ],
            "image/png": "[encoded data removed]"
          },
          "metadata": {}
        }
      ]
    },
    {
      "cell_type": "markdown",
      "metadata": {
        "id": "dMui_uLJ7G0d"
      },
      "source": [
        "### Conclusions:\n",
        "\n",
        "Для снижения риска переобучения и повышения производительности модели можно применить несколько регуляризационных техник, включая Dropout и Batch Normalization, а также уменьшить размер модели. Вот основные шаги:\n",
        "\n",
        "Снижение сложности модели: В этой конфигурации количество нейронов в слоях уменьшено по сравнению с предыдущими версиями. Это помогает избежать переобучения, особенно при работе с небольшими датасетами.\n",
        "\n",
        "Внедрение Batch Normalization: Использование BatchNorm1d после каждого линейного слоя способствует стабилизации процесса обучения, ускоряет сходимость и помогает предотвратить переобучение.\n",
        "\n",
        "Применение Dropout: Введение Dropout с коэффициентом 0.5 между слоями позволяет модели не слишком зависеть от определенных нейронов, что способствует регуляризации.\n",
        "\n",
        "Оптимизатор Adam: Для повышения стабильности обучения используется оптимизатор Adam, который обеспечивает лучшие результаты по сравнению с традиционными методами.\n",
        "\n",
        "Планировщик обучения (LR Scheduler): Добавление StepLR, который уменьшает скорость обучения через каждые 5 эпох, помогает предотвратить переобучение и ускоряет сходимость модели, делает ее более стабильной."
      ]
    }
  ],
  "metadata": {
    "accelerator": "GPU",
    "colab": {
      "provenance": [],
      "gpuType": "T4"
    },
    "kernelspec": {
      "display_name": "Python 3",
      "name": "python3"
    },
    "language_info": {
      "codemirror_mode": {
        "name": "ipython",
        "version": 3
      },
      "file_extension": ".py",
      "mimetype": "text/x-python",
      "name": "python",
      "nbconvert_exporter": "python",
      "pygments_lexer": "ipython3",
      "version": "3.7.7"
    }
  },
  "nbformat": 4,
  "nbformat_minor": 0
}
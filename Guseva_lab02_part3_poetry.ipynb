{
  "cells": [
    {
      "cell_type": "markdown",
      "metadata": {
        "id": "1kArynOyOCJQ"
      },
      "source": [
        "## Lab 2"
      ]
    },
    {
      "cell_type": "markdown",
      "metadata": {
        "id": "oG4uM10BOCJU"
      },
      "source": [
        "### Part 3. Poetry generation\n",
        "\n",
        "Let's try to generate some poetry using RNNs.\n",
        "\n",
        "You have several choices here:\n",
        "\n",
        "* The Shakespeare sonnets, file `sonnets.txt` available in the notebook directory.\n",
        "\n",
        "* Роман в стихах \"Евгений Онегин\" Александра Сергеевича Пушкина. В предобработанном виде доступен по [ссылке](https://github.com/attatrol/data_sources/blob/master/onegin.txt).\n",
        "\n",
        "* Some other text source, if it will be approved by the course staff.\n",
        "\n",
        "Text generation can be designed in several steps:\n",
        "    \n",
        "1. Data loading.\n",
        "2. Dictionary generation.\n",
        "3. Data preprocessing.\n",
        "4. Model (neural network) training.\n",
        "5. Text generation (model evaluation).\n"
      ]
    },
    {
      "cell_type": "code",
      "execution_count": 30,
      "metadata": {
        "id": "pYjW5aIgOCJW"
      },
      "outputs": [],
      "source": [
        "\n",
        "from torch.nn import Linear,Embedding,Sequential,ReLU,Dropout,BatchNorm1d,CrossEntropyLoss,Sigmoid\n",
        "from torch.optim import Adam,RMSprop\n",
        "from torch.autograd import Variable\n",
        "import torch.nn.functional as F\n",
        "import string\n",
        "import os\n",
        "from IPython.display import clear_output\n",
        "import matplotlib.pyplot as plt\n",
        "import numpy as np\n",
        "import random\n",
        "from random import sample\n",
        "from torch import nn\n",
        "import torch\n",
        "torch.cuda.is_available()\n",
        "\n",
        "np.random.seed(0)"
      ]
    },
    {
      "cell_type": "code",
      "execution_count": 3,
      "metadata": {
        "id": "28tFlU_sT7r_"
      },
      "outputs": [],
      "source": [
        "BATCH_SIZE=2048"
      ]
    },
    {
      "cell_type": "code",
      "execution_count": 4,
      "metadata": {
        "colab": {
          "base_uri": "https://localhost:8080/"
        },
        "id": "_lXpiwNjbAzM",
        "outputId": "36a82574-a4f9-46b8-99a0-6990a0ebb8a8"
      },
      "outputs": [
        {
          "output_type": "stream",
          "name": "stdout",
          "text": [
            "Thu May 16 18:15:29 2024       \n",
            "+---------------------------------------------------------------------------------------+\n",
            "| NVIDIA-SMI 535.104.05             Driver Version: 535.104.05   CUDA Version: 12.2     |\n",
            "|-----------------------------------------+----------------------+----------------------+\n",
            "| GPU  Name                 Persistence-M | Bus-Id        Disp.A | Volatile Uncorr. ECC |\n",
            "| Fan  Temp   Perf          Pwr:Usage/Cap |         Memory-Usage | GPU-Util  Compute M. |\n",
            "|                                         |                      |               MIG M. |\n",
            "|=========================================+======================+======================|\n",
            "|   0  Tesla T4                       Off | 00000000:00:04.0 Off |                    0 |\n",
            "| N/A   54C    P8              11W /  70W |      3MiB / 15360MiB |      0%      Default |\n",
            "|                                         |                      |                  N/A |\n",
            "+-----------------------------------------+----------------------+----------------------+\n",
            "                                                                                         \n",
            "+---------------------------------------------------------------------------------------+\n",
            "| Processes:                                                                            |\n",
            "|  GPU   GI   CI        PID   Type   Process name                            GPU Memory |\n",
            "|        ID   ID                                                             Usage      |\n",
            "|=======================================================================================|\n",
            "|  No running processes found                                                           |\n",
            "+---------------------------------------------------------------------------------------+\n"
          ]
        }
      ],
      "source": [
        "!nvidia-smi"
      ]
    },
    {
      "cell_type": "markdown",
      "metadata": {
        "id": "s1QLGgt4OCJY"
      },
      "source": [
        "### Data loading: Shakespeare"
      ]
    },
    {
      "cell_type": "markdown",
      "metadata": {
        "id": "lXLgGLj9OCJY"
      },
      "source": [
        "Shakespeare sonnets are awailable at this [link](http://www.gutenberg.org/ebooks/1041?msg=welcome_stranger). In addition, they are stored in the same directory as this notebook (`sonnetes.txt`). Simple preprocessing is already done for you in the next cell: all technical info is dropped."
      ]
    },
    {
      "cell_type": "code",
      "execution_count": 5,
      "metadata": {
        "collapsed": true,
        "id": "r0ShkV69OCJZ",
        "colab": {
          "base_uri": "https://localhost:8080/"
        },
        "outputId": "dd1851b4-18ab-495f-823b-01373b4f981b"
      },
      "outputs": [
        {
          "output_type": "stream",
          "name": "stdout",
          "text": [
            "--2024-05-16 18:15:33--  https://raw.githubusercontent.com/girafe-ai/ml-course/22f_basic/homeworks/lab02_deep_learning/sonnets.txt\n",
            "Resolving raw.githubusercontent.com (raw.githubusercontent.com)... 185.199.108.133, 185.199.111.133, 185.199.110.133, ...\n",
            "Connecting to raw.githubusercontent.com (raw.githubusercontent.com)|185.199.108.133|:443... connected.\n",
            "HTTP request sent, awaiting response... 200 OK\n",
            "Length: 119748 (117K) [text/plain]\n",
            "Saving to: ‘sonnets.txt’\n",
            "\n",
            "\rsonnets.txt           0%[                    ]       0  --.-KB/s               \rsonnets.txt         100%[===================>] 116.94K  --.-KB/s    in 0.01s   \n",
            "\n",
            "2024-05-16 18:15:33 (7.98 MB/s) - ‘sonnets.txt’ saved [119748/119748]\n",
            "\n"
          ]
        }
      ],
      "source": [
        "if not os.path.exists('sonnets.txt'):\n",
        "    !wget https://raw.githubusercontent.com/girafe-ai/ml-course/22f_basic/homeworks/lab02_deep_learning/sonnets.txt\n",
        "\n",
        "with open('sonnets.txt', 'r') as iofile:\n",
        "    text = iofile.readlines()\n",
        "\n",
        "TEXT_START = 45\n",
        "TEXT_END = -368\n",
        "text = text[TEXT_START : TEXT_END]\n",
        "assert len(text) == 2616"
      ]
    },
    {
      "cell_type": "markdown",
      "metadata": {
        "id": "HyZGRdAnOCJZ"
      },
      "source": [
        "In opposite to the in-class practice, this time we want to predict complex text. Let's reduce the complexity of the task and lowercase all the symbols.\n",
        "\n",
        "Now variable `text` is a list of strings. Join all the strings into one and lowercase it."
      ]
    },
    {
      "cell_type": "code",
      "execution_count": 6,
      "metadata": {
        "id": "YlBCJag7OCJc"
      },
      "outputs": [],
      "source": [
        "# Join all the strings into one and lowercase it\n",
        "# Put result into variable text.\n",
        "\n",
        "# Your great code here\n",
        "text[0] = ' ' + text[0]\n",
        "out = ' '.join(text).lower()\n",
        "list_text = out.split('\\n')\n",
        "out = out.replace('\\n', '')\n",
        "# out = out.replace('  ', ' ')\n",
        "# out = ' ' + out\n",
        "text = out"
      ]
    },
    {
      "cell_type": "code",
      "execution_count": 7,
      "metadata": {
        "colab": {
          "base_uri": "https://localhost:8080/"
        },
        "id": "rAp9zpa3OCJa",
        "outputId": "6d4d6fb5-acea-4377-f11e-59d112b40f04"
      },
      "outputs": [
        {
          "output_type": "stream",
          "name": "stdout",
          "text": [
            "OK!\n"
          ]
        }
      ],
      "source": [
        "# Join all the strings into one and lowercase it\n",
        "# Put result into variable text.\n",
        "\n",
        "# Your great code here\n",
        "\n",
        "assert len(text) == 100225, 'Are you sure you have concatenated all the strings?'\n",
        "assert not any([x in set(text) for x in string.ascii_uppercase]), 'Uppercase letters are present'\n",
        "print('OK!')"
      ]
    },
    {
      "cell_type": "markdown",
      "metadata": {
        "id": "fYLr-Vh4OCJa"
      },
      "source": [
        "### Data loading: \"Евгений Онегин\"\n"
      ]
    },
    {
      "cell_type": "code",
      "execution_count": 8,
      "metadata": {
        "id": "8X3Mx3ntOCJa"
      },
      "outputs": [],
      "source": [
        "# !wget https://raw.githubusercontent.com/attatrol/data_sources/master/onegin.txt\n",
        "\n",
        "# with open('onegin.txt', 'r') as iofile:\n",
        "#     text = iofile.readlines()\n",
        "\n",
        "# text = [x.replace('\\t\\t', '') for x in text]"
      ]
    },
    {
      "cell_type": "markdown",
      "metadata": {
        "id": "ghKcWsdROCJc"
      },
      "source": [
        "In opposite to the in-class practice, this time we want to predict complex text. Let's reduce the complexity of the task and lowercase all the symbols.\n",
        "\n",
        "Now variable `text` is a list of strings. Join all the strings into one and lowercase it."
      ]
    },
    {
      "cell_type": "markdown",
      "metadata": {
        "id": "06ysBHfQOCJd"
      },
      "source": [
        "Put all the characters, that you've seen in the text, into variable `tokens`."
      ]
    },
    {
      "cell_type": "code",
      "execution_count": 12,
      "metadata": {
        "id": "EnS8HYAQOCJd"
      },
      "outputs": [],
      "source": [
        "tokens = sorted(set(text))"
      ]
    },
    {
      "cell_type": "markdown",
      "metadata": {
        "id": "S3be117nOCJd"
      },
      "source": [
        "Create dictionary `token_to_idx = {<char>: <index>}` and dictionary `idx_to_token = {<index>: <char>}`"
      ]
    },
    {
      "cell_type": "code",
      "execution_count": 13,
      "metadata": {
        "collapsed": true,
        "id": "6VKNAANSOCJd"
      },
      "outputs": [],
      "source": [
        "# dict <index>:<char>\n",
        "# Your great code here\n",
        "\n",
        "\n",
        "\n",
        "id_to_token = {idx: token for idx, token in enumerate(tokens)}\n",
        "\n",
        "token_to_id = {token: idx for idx, token in enumerate(tokens)}\n",
        "\n",
        "num_tokens = len(tokens)\n",
        "# dict <char>:<index>\n",
        "# Your great code here"
      ]
    },
    {
      "cell_type": "code",
      "execution_count": 14,
      "metadata": {
        "colab": {
          "base_uri": "https://localhost:8080/"
        },
        "id": "Wjktk7_KOCJd",
        "outputId": "aebd0500-dc05-4db2-ba2f-15594636beed"
      },
      "outputs": [
        {
          "output_type": "stream",
          "name": "stdout",
          "text": [
            "Seems alright!\n"
          ]
        }
      ],
      "source": [
        "assert len(tokens) == len(token_to_id), \"dictionaries must have same size\"\n",
        "\n",
        "for i in range(num_tokens):\n",
        "    assert token_to_id[tokens[i]] == i, \"token identifier must be it's position in tokens list\"\n",
        "\n",
        "print(\"Seems alright!\")"
      ]
    },
    {
      "cell_type": "code",
      "execution_count": 15,
      "metadata": {
        "id": "E2jaW5YLOCJe"
      },
      "outputs": [],
      "source": [
        "def to_matrix(data, token_to_id, max_len=None, dtype='int32', batch_first = True):\n",
        "    \"\"\"Casts a list of names into rnn-digestable matrix\"\"\"\n",
        "\n",
        "    max_len = max_len or max(map(len, data))\n",
        "    data_ix = np.zeros([len(data), max_len], dtype) + token_to_id[' ']\n",
        "\n",
        "    for i in range(len(data)):\n",
        "        line_ix = [token_to_id[c] for c in data[i]]\n",
        "        data_ix[i, :len(line_ix)] = line_ix\n",
        "\n",
        "    if not batch_first: # convert [batch, time] into [time, batch]\n",
        "        data_ix = np.transpose(data_ix)\n",
        "\n",
        "    return data_ix"
      ]
    },
    {
      "cell_type": "markdown",
      "metadata": {
        "id": "cO2Phk9OOCJe"
      },
      "source": [
        "*Comment: in this task we have only 38 different tokens, so let's use one-hot encoding.*"
      ]
    },
    {
      "cell_type": "markdown",
      "metadata": {
        "id": "oqoWx628OCJe"
      },
      "source": [
        "### Building the model"
      ]
    },
    {
      "cell_type": "markdown",
      "metadata": {
        "id": "VhP62dGzOCJe"
      },
      "source": [
        "Now we want to build and train recurrent neural net which would be able to something similar to Shakespeare's poetry.\n",
        "\n",
        "Let's use vanilla RNN, similar to the one created during the lesson."
      ]
    },
    {
      "cell_type": "code",
      "execution_count": 16,
      "metadata": {
        "id": "4Fd3J7AvOCJe"
      },
      "outputs": [],
      "source": [
        "device = torch.device(\"cuda\" if torch.cuda.is_available() else \"cpu\")"
      ]
    },
    {
      "cell_type": "code",
      "execution_count": 17,
      "metadata": {
        "collapsed": true,
        "id": "Zkuj8NniOCJf"
      },
      "outputs": [],
      "source": [
        "class CharRNNCell(nn.Module):\n",
        "    \"\"\"\n",
        "    Implement the scheme above as torch module\n",
        "    \"\"\"\n",
        "    def __init__(self, num_tokens=len(tokens), embedding_size=15, rnn_num_units=1024):\n",
        "        super(self.__class__,self).__init__()\n",
        "        self.num_units = rnn_num_units\n",
        "\n",
        "        self.embedding = nn.Embedding(num_tokens, embedding_size)\n",
        "        self.rnn_update = nn.Linear(embedding_size + rnn_num_units, rnn_num_units)\n",
        "        self.rnn_to_logits = nn.Linear(rnn_num_units, num_tokens)\n",
        "\n",
        "    def forward(self, x, h_prev):\n",
        "        \"\"\"\n",
        "        This method computes h_next(x, h_prev) and log P(x_next | h_next)\n",
        "        We'll call it repeatedly to produce the whole sequence.\n",
        "\n",
        "        :param x: batch of character ids, variable containing vector of int64\n",
        "        :param h_prev: previous rnn hidden states, variable containing matrix [batch, rnn_num_units] of float32\n",
        "        \"\"\"\n",
        "        # get vector embedding of x\n",
        "        x_emb = self.embedding(x)\n",
        "\n",
        "        # compute next hidden state using self.rnn_update\n",
        "        x_and_h = torch.cat([x_emb, h_prev], dim=1)\n",
        "        h_next = self.rnn_update(x_and_h)\n",
        "        h_next = F.tanh(h_next)\n",
        "\n",
        "        assert h_next.size() == h_prev.size()\n",
        "\n",
        "        #compute logits for next character probs\n",
        "        logits = self.rnn_to_logits(h_next)\n",
        "\n",
        "        return h_next, logits\n",
        "        # return h_next, F.log_softmax(logits, dim=-1)\n",
        "\n",
        "    def initial_state(self, batch_size):\n",
        "        \"\"\" return rnn state before it processes first input (aka h0) \"\"\"\n",
        "        return Variable(torch.zeros(batch_size, self.num_units))"
      ]
    },
    {
      "cell_type": "code",
      "execution_count": 18,
      "metadata": {
        "id": "Ez6jNWiWOCJf"
      },
      "outputs": [],
      "source": [
        "def rnn_loop(rnn, batch_index):\n",
        "    \"\"\"\n",
        "    Computes log P(next_character) for all time-steps in names_ix\n",
        "    :param names_ix: an int32 matrix of shape [batch, time], output of to_matrix(names)\n",
        "    \"\"\"\n",
        "    batch_size, max_length = batch_index.size()\n",
        "    hid_state = rnn.initial_state(batch_size).to(device)\n",
        "    logprobs = []\n",
        "\n",
        "    for x_t in batch_index.transpose(0,1):\n",
        "        hid_state, logp_next = rnn(x_t, hid_state)\n",
        "        logprobs.append(logp_next)\n",
        "\n",
        "    return torch.stack(logprobs, dim=1)"
      ]
    },
    {
      "cell_type": "code",
      "execution_count": 21,
      "metadata": {
        "id": "9hUp3rrmOCJf"
      },
      "outputs": [],
      "source": [
        "char_rnn = CharRNNCell().to(device)\n",
        "opt = torch.optim.Adam(char_rnn.parameters())\n",
        "history = []\n",
        "loss_func = nn.CrossEntropyLoss()"
      ]
    },
    {
      "cell_type": "markdown",
      "metadata": {
        "id": "vgItZcHoOCJf"
      },
      "source": [
        "Plot the loss function (axis X: number of epochs, axis Y: loss function)."
      ]
    },
    {
      "cell_type": "code",
      "execution_count": 22,
      "metadata": {
        "colab": {
          "base_uri": "https://localhost:8080/"
        },
        "id": "k0qXz9q8OCJf",
        "outputId": "419ecc78-ac87-4dbd-af62-d5dbf293f87b"
      },
      "outputs": [
        {
          "output_type": "execute_result",
          "data": {
            "text/plain": [
              "63"
            ]
          },
          "metadata": {},
          "execution_count": 22
        }
      ],
      "source": [
        "MAX_LENGTH = max(map(len, list_text))\n",
        "MAX_LENGTH"
      ]
    },
    {
      "cell_type": "code",
      "execution_count": 23,
      "metadata": {
        "colab": {
          "base_uri": "https://localhost:8080/",
          "height": 430
        },
        "id": "vc0UKaUgOCJg",
        "outputId": "c469cd96-bf3b-4865-8600-ce5b6926e989"
      },
      "outputs": [
        {
          "output_type": "display_data",
          "data": {
            "text/plain": [
              "<Figure size 640x480 with 1 Axes>"
            ],
            "image/png": "[encoded data removed]"
          },
          "metadata": {}
        }
      ],
      "source": [
        "# Your plot code here\n",
        "for i in range(4000):\n",
        "    batch_ix = to_matrix(sample(list_text, BATCH_SIZE), token_to_id, max_len=MAX_LENGTH)\n",
        "    batch_ix = torch.tensor(batch_ix, dtype=torch.int64).to(device)\n",
        "\n",
        "    logp_seq = rnn_loop(char_rnn, batch_ix)\n",
        "\n",
        "    # compute loss\n",
        "    predictions_logp = logp_seq[:, :-1]\n",
        "    actual_next_tokens = batch_ix[ :,1:]\n",
        "\n",
        "    loss = -torch.mean(torch.gather(predictions_logp, dim=2, index=actual_next_tokens[:,:,None]))\n",
        "    loss = loss_func(\n",
        "    predictions_logp.reshape(-1, num_tokens),\n",
        "    actual_next_tokens.reshape(-1)\n",
        "    )\n",
        "\n",
        "    # train with backprop\n",
        "    loss.backward()\n",
        "    opt.step()\n",
        "    opt.zero_grad()\n",
        "\n",
        "    # visualizing training process\n",
        "    history.append(loss.cpu().data.numpy())\n",
        "    if (i + 1) % 10 == 0:\n",
        "        clear_output(True)\n",
        "        plt.plot(history,label='loss')\n",
        "        plt.legend()\n",
        "        plt.show()\n",
        "\n",
        "assert np.mean(history[:10]) > np.mean(history[-10:]), \"RNN didn't converge.\""
      ]
    },
    {
      "cell_type": "code",
      "execution_count": 24,
      "metadata": {
        "id": "fUcuiqHkOCJg"
      },
      "outputs": [],
      "source": [
        "def generate_sample(char_rnn, seed_phrase=' hello', max_length=MAX_LENGTH, temperature=1.0):\n",
        "    '''\n",
        "    ### Disclaimer: this is an example function for text generation.\n",
        "    ### You can either adapt it in your code or create your own function\n",
        "\n",
        "    The function generates text given a phrase of length at least SEQ_LENGTH.\n",
        "    :param seed_phrase: prefix characters. The RNN is asked to continue the phrase\n",
        "    :param max_length: maximum output length, including seed_phrase\n",
        "    :param temperature: coefficient for sampling.  higher temperature produces more chaotic outputs,\n",
        "        smaller temperature converges to the single most likely output.\n",
        "\n",
        "    Be careful with the model output. This model waits logits (not probabilities/log-probabilities)\n",
        "    of the next symbol.\n",
        "    '''\n",
        "    x_sequence = [token_to_id[token] for token in seed_phrase]\n",
        "    x_sequence = torch.tensor([x_sequence], dtype=torch.int64)\n",
        "    hid_state = char_rnn.initial_state(batch_size=1).to(device)\n",
        "\n",
        "    #feed the seed phrase, if any\n",
        "    for i in range(len(seed_phrase) - 1):\n",
        "        hid_state, _ = char_rnn(x_sequence[:, i].to(device), hid_state)\n",
        "\n",
        "    #start generating\n",
        "    for _ in range(MAX_LENGTH):\n",
        "        hid_state, logp_next = char_rnn(x_sequence[:, -1].to(device), hid_state)\n",
        "        p_next = F.softmax(logp_next / temperature, dim=-1).cpu().data.numpy()[0]\n",
        "        # sample next token and push it back into x_sequence\n",
        "        # output_dist = logp_next.data.view(-1).div(temperature).exp()\n",
        "        # top_i = torch.multinomial(output_dist, 1)[0]\n",
        "\n",
        "        next_ix = np.random.choice(len(tokens), p=p_next)\n",
        "\n",
        "        next_ix = torch.tensor([[next_ix]], dtype=torch.int64)\n",
        "        # print(next_ix)\n",
        "        x_sequence = torch.cat([x_sequence, next_ix], dim=1)\n",
        "        # print(x_sequence.shape)\n",
        "    return ''.join([tokens[ix] for ix in x_sequence.data.numpy()[0]])"
      ]
    },
    {
      "cell_type": "code",
      "execution_count": 25,
      "metadata": {
        "colab": {
          "base_uri": "https://localhost:8080/"
        },
        "id": "8PV_TgUGOCJg",
        "outputId": "3acd6dc3-85ab-4322-831e-d6b0ecf2f54b"
      },
      "outputs": [
        {
          "output_type": "stream",
          "name": "stdout",
          "text": [
            "knight with a horse crow'd, still be the vear hous wiill; of preaser,              \n",
            "of couthin me thou mayst cault us yout with stope that good ounla\n",
            "ushaiding him birts,                                             \n",
            "ushaiding h morths would gaze thee,                                     \n",
            "wouldste;                                                           \n",
            "wouldste;                                                               \n",
            "wouldste;                                                               \n",
            "wouldste;                                                               \n",
            "wouldste;                                                               \n",
            "wouldste;                                                               \n"
          ]
        }
      ],
      "source": [
        "first_word = 'knight with a horse '\n",
        "for _ in range(10):\n",
        "    answer = generate_sample(char_rnn,seed_phrase=first_word,temperature=0.2)\n",
        "    first_word = random.choice(answer.strip().split(' '))\n",
        "    print(answer)\n"
      ]
    },
    {
      "cell_type": "markdown",
      "metadata": {
        "id": "SPUGzJTaOCJg"
      },
      "source": [
        "### More poetic model\n",
        "\n",
        "Let's use LSTM instead of vanilla RNN and compare the results."
      ]
    },
    {
      "cell_type": "markdown",
      "metadata": {
        "id": "hdCZ_y9IOCJh"
      },
      "source": [
        "Plot the loss function of the number of epochs. Does the final loss become better?"
      ]
    },
    {
      "cell_type": "code",
      "execution_count": 26,
      "metadata": {
        "collapsed": true,
        "id": "LuzkabG6OCJh"
      },
      "outputs": [],
      "source": [
        "class LSTMCell(nn.Module):\n",
        "    \"\"\"\n",
        "    Implement the scheme above as torch module\n",
        "    \"\"\"\n",
        "\n",
        "    def __init__(self, num_tokens=len(tokens), embedding_size=15, lstm_num_units=1024):\n",
        "        super(self.__class__,self).__init__()\n",
        "        self.num_units = lstm_num_units\n",
        "\n",
        "        self.embedding = nn.Embedding(num_tokens, embedding_size)\n",
        "        self.fc1 = nn.Linear(embedding_size + lstm_num_units, lstm_num_units)\n",
        "        self.fc2 = nn.Linear(embedding_size + lstm_num_units, lstm_num_units)\n",
        "        self.fc3 = nn.Linear(embedding_size + lstm_num_units, lstm_num_units)\n",
        "        self.fc4 = nn.Linear(embedding_size + lstm_num_units, lstm_num_units)\n",
        "\n",
        "        self.lstm_to_logits = nn.Linear(lstm_num_units, num_tokens)\n",
        "    def forward(self, x, h_prev,c_prev):\n",
        "        \"\"\"\n",
        "        This method computes h_next(x, h_prev) and log P(x_next | h_next)\n",
        "        We'll call it repeatedly to produce the whole sequence.\n",
        "\n",
        "        :param x: batch of character ids, variable containing vector of int64\n",
        "        :param h_prev: previous lstm hidden states, variable containing matrix [batch, lstm_num_units] of float32\n",
        "        \"\"\"\n",
        "        # x=torch.tensor(x, dtype=torch.int64)\n",
        "        x_emb = self.embedding(x)\n",
        "        x_and_h = torch.cat([x_emb, h_prev], dim=1)\n",
        "        f=F.sigmoid(self.fc1(x_and_h))\n",
        "        i=F.sigmoid(self.fc2(x_and_h))\n",
        "        c=F.tanh(self.fc3(x_and_h))\n",
        "        o=F.sigmoid(self.fc4(x_and_h))\n",
        "        c_next = c_prev*f+i*c\n",
        "        h_next = F.tanh(c_next)*o\n",
        "        logits = self.lstm_to_logits(h_next)\n",
        "\n",
        "        assert h_next.size() == h_prev.size()\n",
        "        assert c_next.size() == c_prev.size()\n",
        "\n",
        "        #compute logits for next character probs\n",
        "        logits = self.lstm_to_logits(h_next)\n",
        "\n",
        "        return h_next,c_next, F.log_softmax(logits, -1)\n",
        "\n",
        "    def initial_state(self, batch_size):\n",
        "        \"\"\" return lstm state before it processes first input (aka h0) \"\"\"\n",
        "        return Variable(torch.zeros(batch_size, self.num_units,dtype=torch.float32)),Variable(torch.zeros(batch_size, self.num_units,dtype=torch.float32))"
      ]
    },
    {
      "cell_type": "code",
      "source": [
        "def lstm_loop(lstm, batch_index):\n",
        "    \"\"\"\n",
        "    :param names_ix: an int32 matrix of shape [batch, time], output of to_matrix(names)\n",
        "    \"\"\"\n",
        "    batch_size, max_length = batch_index.size()\n",
        "    hid_state,cell_state = lstm.initial_state(batch_size)\n",
        "    hid_state=hid_state.to(device)\n",
        "    cell_state=cell_state.to(device)\n",
        "    logprobs = []\n",
        "\n",
        "    for x_t in batch_index.transpose(0,1):\n",
        "        hid_state, cell_state, logp_next = lstm(x_t, hid_state, cell_state)\n",
        "        logprobs.append(logp_next)\n",
        "\n",
        "    return torch.stack(logprobs, dim=1)"
      ],
      "metadata": {
        "id": "BfoG6glX0KC3"
      },
      "execution_count": 27,
      "outputs": []
    },
    {
      "cell_type": "code",
      "source": [
        "char_lstm = LSTMCell().to(device)\n",
        "opt = torch.optim.Adam(char_lstm.parameters())\n",
        "history = []"
      ],
      "metadata": {
        "id": "Prp7MmOn0Loz"
      },
      "execution_count": 28,
      "outputs": []
    },
    {
      "cell_type": "code",
      "source": [
        "for i in range(2000):\n",
        "    batch_ix = to_matrix(sample(list_text, BATCH_SIZE), token_to_id, max_len=MAX_LENGTH)\n",
        "    batch_ix = torch.tensor(batch_ix, dtype=torch.int64).to(device)\n",
        "\n",
        "    logp_seq = lstm_loop(char_lstm, batch_ix)\n",
        "\n",
        "    # compute loss\n",
        "    predictions_logp = logp_seq[:, :-1]\n",
        "    actual_next_tokens = batch_ix[:, 1:]\n",
        "\n",
        "    loss = -torch.mean(torch.gather(predictions_logp, dim=2, index=actual_next_tokens[:,:,None]))\n",
        "\n",
        "    # train with backprop\n",
        "    loss.backward()\n",
        "    opt.step()\n",
        "    opt.zero_grad()\n",
        "\n",
        "    # visualizing training process\n",
        "    history.append(loss.cpu().data.numpy())\n",
        "    if (i + 1) % 100 == 0:\n",
        "        clear_output(True)\n",
        "        plt.plot(history,label='loss')\n",
        "        plt.legend()\n",
        "        plt.show()\n",
        "\n",
        "assert np.mean(history[:10]) > np.mean(history[-10:]), \"LSTM didn't converge.\""
      ],
      "metadata": {
        "colab": {
          "base_uri": "https://localhost:8080/",
          "height": 430
        },
        "id": "M5pHInCi0QS5",
        "outputId": "3c39a91c-f8eb-4bf4-fbbe-3ff3f4f62e00"
      },
      "execution_count": 29,
      "outputs": [
        {
          "output_type": "display_data",
          "data": {
            "text/plain": [
              "<Figure size 640x480 with 1 Axes>"
            ],
            "image/png": "[encoded data removed]"
          },
          "metadata": {}
        }
      ]
    },
    {
      "cell_type": "markdown",
      "metadata": {
        "id": "qoNXXr4YOCJh"
      },
      "source": [
        "Generate text using the trained net with different `temperature` parameter: `[0.1, 0.2, 0.5, 1.0, 2.0]`.\n",
        "\n",
        "Evaluate the results visually, try to interpret them."
      ]
    },
    {
      "cell_type": "code",
      "source": [
        "def generate_sample_lstm(char_rnn, seed_phrase=' ', max_length=MAX_LENGTH, temperature=0.3):\n",
        "    '''\n",
        "    The function generates text given a phrase of length at least SEQ_LENGTH.\n",
        "    :param seed_phrase: prefix characters. The RNN is asked to continue the phrase\n",
        "    :param max_length: maximum output length, including seed_phrase\n",
        "    :param temperature: coefficient for sampling.  higher temperature produces more chaotic outputs,\n",
        "                        smaller temperature converges to the single most likely output\n",
        "    '''\n",
        "\n",
        "    x_sequence = [token_to_id[token] for token in seed_phrase]\n",
        "    x_sequence = torch.tensor([x_sequence], dtype=torch.int64)\n",
        "    hid_state, cell_state = char_rnn.initial_state(batch_size=1)\n",
        "    hid_state=hid_state.to(device)\n",
        "    cell_state=cell_state.to(device)\n",
        "    #feed the seed phrase, if any\n",
        "    for i in range(len(seed_phrase) - 1):\n",
        "        hid_state,cell_state, _ = char_rnn(x_sequence[:, i].to(device), hid_state, cell_state)\n",
        "\n",
        "    #start generating\n",
        "    for _ in range(max_length):\n",
        "        hid_state, cell_state,logp_next = char_rnn(x_sequence[:, -1].to(device), hid_state, cell_state)\n",
        "        p_next = F.softmax(logp_next / temperature, dim=-1).cpu().data.numpy()[0]\n",
        "\n",
        "        # sample next token and push it back into x_sequence\n",
        "        next_ix = np.random.choice(len(tokens), p=p_next)\n",
        "        next_ix = torch.tensor([[next_ix]], dtype=torch.int64)\n",
        "        x_sequence = torch.cat([x_sequence, next_ix], dim=1)\n",
        "\n",
        "    return ''.join([tokens[ix] for ix in x_sequence.cpu().data.numpy()[0]])"
      ],
      "metadata": {
        "id": "_b7db0_a_PKj"
      },
      "execution_count": null,
      "outputs": []
    },
    {
      "cell_type": "code",
      "execution_count": null,
      "metadata": {
        "id": "sYBr0BxLOCJh",
        "colab": {
          "base_uri": "https://localhost:8080/"
        },
        "outputId": "30227d13-6abb-4e0a-9a3f-d59e073b3668"
      },
      "outputs": [
        {
          "output_type": "stream",
          "name": "stdout",
          "text": [
            "knight with a horse with thine                                 \n",
            "knight with a horse wird                                       \n",
            "knight with a horse with thine                                 \n",
            "knight with a horse with thine                                 \n",
            "knight with a horse wird                                       \n",
            "knight with a horse wird                                       \n",
            "knight with a horse with thine                                 \n",
            "knight with a horse wird                                       \n",
            "knight with a horse with thine                                 \n",
            "knight with a horse wird                                       \n"
          ]
        }
      ],
      "source": [
        "# Text generation with different temperature values here\n",
        "# def generation(model, phrase):\n",
        "\n",
        "#   for _ in range(10):\n",
        "#       answer = generate_sample(model, seed_phrase=phrase,temperature=0.2)\n",
        "#       phrase = random.choice(answer.strip().split(' '))\n",
        "#       print(answer)\n",
        "\n",
        "# first_word = 'knight with a horse '\n",
        "# generation(char_lstm, first_word)\n",
        "\n",
        "first_word = 'knight with a horse '\n",
        "for _ in range(10):\n",
        "    answer = generate_sample_lstm(char_lstm,seed_phrase=first_word,temperature=0.2)\n",
        "    print(answer)"
      ]
    },
    {
      "cell_type": "code",
      "source": [
        "first_word = 'knight with a horse '\n",
        "for _ in range(10):\n",
        "    answer = generate_sample_lstm(char_lstm,seed_phrase=first_word,temperature=0.1)\n",
        "    print(answer)"
      ],
      "metadata": {
        "id": "k7DFbwa1UbSe"
      },
      "execution_count": null,
      "outputs": []
    },
    {
      "cell_type": "code",
      "source": [
        "first_word = 'knight with a horse '\n",
        "for _ in range(10):\n",
        "    answer = generate_sample_lstm(char_lstm,seed_phrase=first_word,temperature=0.5)\n",
        "    print(answer)"
      ],
      "metadata": {
        "id": "U4cGD2ueUhDr"
      },
      "execution_count": null,
      "outputs": []
    },
    {
      "cell_type": "code",
      "source": [
        "first_word = 'knight with a horse '\n",
        "for _ in range(10):\n",
        "    answer = generate_sample_lstm(char_lstm,seed_phrase=first_word,temperature=1)\n",
        "    print(answer)"
      ],
      "metadata": {
        "id": "z_kSoixKUlA9"
      },
      "execution_count": null,
      "outputs": []
    },
    {
      "cell_type": "code",
      "source": [
        "first_word = 'knight with a horse '\n",
        "for _ in range(10):\n",
        "    answer = generate_sample_lstm(char_lstm,seed_phrase=first_word,temperature=2)\n",
        "    print(answer)"
      ],
      "metadata": {
        "id": "-02yT6T4Umy_"
      },
      "execution_count": null,
      "outputs": []
    },
    {
      "cell_type": "markdown",
      "metadata": {
        "id": "Jag_ZBNlOCJh"
      },
      "source": [
        "### Saving and loading models"
      ]
    },
    {
      "cell_type": "markdown",
      "metadata": {
        "id": "85DFPuZKOCJh"
      },
      "source": [
        "Save the model to the disk, then load it and generate text. Examples are available [here](https://pytorch.org/tutorials/beginner/saving_loading_models.html])."
      ]
    },
    {
      "cell_type": "code",
      "execution_count": null,
      "metadata": {
        "collapsed": true,
        "id": "UyTx51-rOCJi"
      },
      "outputs": [],
      "source": [
        "# Saving and loading code here\n",
        "\n",
        "torch.save(char_lstm.state_dict(), 'char_lstm.pt')\n",
        "torch.save(char_rnn.state_dict(), 'char_rnn.pt')\n",
        "\n",
        "\n",
        "device = torch.device('cpu')\n",
        "char_lstm.load_state_dict(torch.load('char_lstm.pt', map_location=device))\n",
        "\n",
        "device = torch.device('cpu')\n",
        "char_rnn.load_state_dict(torch.load('char_rnn.pt', map_location=device))"
      ]
    },
    {
      "cell_type": "markdown",
      "metadata": {
        "id": "GHjrVjmWOCJi"
      },
      "source": [
        "### References\n",
        "1. <a href='http://karpathy.github.io/2015/05/21/rnn-effectiveness/'> Andrew Karpathy blog post about RNN. </a>\n",
        "There are several examples of genration: Shakespeare texts, Latex formulas, Linux Sourse Code and children names.\n",
        "2. <a href='https://github.com/karpathy/char-rnn'> Repo with char-rnn code </a>\n",
        "3. Cool repo with PyTorch examples: [link](https://github.com/spro/practical-pytorch`)"
      ]
    }
  ],
  "metadata": {
    "accelerator": "GPU",
    "anaconda-cloud": {},
    "colab": {
      "gpuType": "T4",
      "provenance": [],
      "toc_visible": true
    },
    "kernelspec": {
      "display_name": "Python 3",
      "name": "python3"
    },
    "language_info": {
      "codemirror_mode": {
        "name": "ipython",
        "version": 3
      },
      "file_extension": ".py",
      "mimetype": "text/x-python",
      "name": "python",
      "nbconvert_exporter": "python",
      "pygments_lexer": "ipython3",
      "version": "3.8.3"
    }
  },
  "nbformat": 4,
  "nbformat_minor": 0
}